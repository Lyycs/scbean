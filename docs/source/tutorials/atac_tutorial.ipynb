{
 "cells": [
  {
   "cell_type": "markdown",
   "metadata": {},
   "source": [
    "# scATAC-seq\n",
    "\n",
    "# VIPCCA scRNA-seq + scATAC-seq tutorial\n",
    "This tutorial shows loading, preprocessing, VIPCCA integration and visualization of scRNA-seq and scATAC-seq dataset.\n",
    "\n",
    "we obtained a [scRNA-seq data](http://cf.10xgenomics.com/samples/cell-exp/3.0.0/pbmc_10k_v3/pbmc_10k_v3_filtered_feature_bc_matrix.h5) consisting of gene expression measurements on 33,538 genes in 11,769 cells and a [scATAC-seq data](http://cf.10xgenomics.com/samples/cell-atac/1.0.1/atac_v1_pbmc_10k/atac_v1_pbmc_10k_filtered_peak_bc_matrix.h5) consisting of 89,796 open chromatin peaks on 8,728 nuclei, both were produced by 10X Genomics Chromium system and were on PBMCs."
   ]
  },
  {
   "cell_type": "markdown",
   "metadata": {},
   "source": [
    "### Preprocessing with R\n",
    "For the scRNA-seq data, we obtained 13 cell types using a [standard workflow](https://www.dropbox.com/s/3f3p5nxrn5b3y4y/pbmc_10k_v3.rds?dl=1) in Seurat. The 13 cell types include 460 B cell progenitor, 2,992 CD14+ Monocytes, 328 CD16+ Monocytes, 1,596 CD4 Memory, 1,047 CD4 Naïve, 383 CD8 effector, 337 CD8 Naïve, 74 Dendritic cell, 592 Double negative T cell, 544 NK cell, 68 pDC, 52 Plateletes, and 599 pre-B cell.\n",
    "\n",
    "For the scATAC-seq data, we filtered out cells that have with fewer than 5,000 total peak counts to focus on a final set of 7,866 cells for analysis. See the Signac website for [up-to-date vignettes](https://satijalab.org/signac/articles/pbmc_vignette.html) and documentation for analysing scATAC-seq data.\n",
    "\n",
    "```R\n",
    "library(Seurat)\n",
    "library(ggplot2)\n",
    "library(patchwork)\n",
    "\n",
    "peaks <- Read10X_h5(\"../data/atac_v1_pbmc_10k_filtered_peak_bc_matrix.h5\")\n",
    "# create a gene activity matrix from the peak matrix and GTF, using chromosomes 1:22, X, and Y.\n",
    "# Peaks that fall within gene bodies, or 2kb upstream of a gene, are considered\n",
    "activity.matrix <- CreateGeneActivityMatrix(\n",
    "    peak.matrix = peaks, \n",
    "    annotation.file = \"../data/Homo_sapiens.GRCh37.82.gtf\", \n",
    "    seq.levels = c(1:22, \"X\", \"Y\"), \n",
    "    upstream = 2000, verbose = TRUE\n",
    ")\n",
    "```\n",
    "\n",
    "After filter, we converting Seurat Object to AnnData via h5Seurat using R packages. In this case, the atac.h5ad file will be generated in the corresponding path.\n",
    "\n",
    "```R\n",
    "library(SeuratDisk)\n",
    "\n",
    "SaveH5Seurat(atac, filename = \"atac.h5Seurat\")\n",
    "Convert(\"atac.h5Seurat\", dest = \"h5ad\")\n",
    "```"
   ]
  },
  {
   "cell_type": "markdown",
   "metadata": {},
   "source": [
    "### Importing VIPCCA"
   ]
  },
  {
   "cell_type": "code",
   "execution_count": 1,
   "metadata": {},
   "outputs": [
    {
     "name": "stderr",
     "output_type": "stream",
     "text": [
      "Using TensorFlow backend.\n"
     ]
    }
   ],
   "source": [
    "import vipcca as vip\n",
    "import vipcca.preprocessing as pp\n",
    "import matplotlib\n",
    "import scanpy as sc\n",
    "matplotlib.use('TkAgg')\n",
    "\n",
    "# Command for Jupyter notebooks only\n",
    "%matplotlib inline\n",
    "import warnings\n",
    "warnings.filterwarnings('ignore')\n",
    "from matplotlib.axes._axes import _log as matplotlib_axes_logger\n",
    "matplotlib_axes_logger.setLevel('ERROR')"
   ]
  },
  {
   "cell_type": "markdown",
   "metadata": {},
   "source": [
    "### Loading data in python"
   ]
  },
  {
   "cell_type": "code",
   "execution_count": 2,
   "metadata": {},
   "outputs": [
    {
     "name": "stderr",
     "output_type": "stream",
     "text": [
      "Trying to set attribute `.obs` of view, copying.\n",
      "Trying to set attribute `.obs` of view, copying.\n"
     ]
    }
   ],
   "source": [
    "adata1 = pp.read_sc_data(\"/Users/zhongyuanke/data/vipcca/atac/rna.h5ad\")\n",
    "adata2 = pp.read_sc_data(\"/Users/zhongyuanke/data/vipcca/atac/geneact.h5ad\")\n",
    "adata_all= pp.preprocessing([adata1, adata2])"
   ]
  },
  {
   "cell_type": "markdown",
   "metadata": {},
   "source": [
    "### Data preprocessing\n",
    "Here, we filter and normalize each data separately and concatenate them into one AnnData object. For more details, please check the preprocessing API."
   ]
  },
  {
   "cell_type": "code",
   "execution_count": 3,
   "metadata": {},
   "outputs": [
    {
     "name": "stderr",
     "output_type": "stream",
     "text": [
      "Trying to set attribute `.obs` of view, copying.\n",
      "Trying to set attribute `.obs` of view, copying.\n"
     ]
    }
   ],
   "source": [
    "adata_all= pp.preprocessing([adata1, adata2])"
   ]
  },
  {
   "cell_type": "markdown",
   "metadata": {},
   "source": [
    "### VIPCCA Integration"
   ]
  },
  {
   "cell_type": "code",
   "execution_count": 5,
   "metadata": {},
   "outputs": [
    {
     "name": "stdout",
     "output_type": "stream",
     "text": [
      "WARNING:tensorflow:From /Users/zhongyuanke/anaconda3/envs/test-vipcca/lib/python3.7/site-packages/tensorflow_core/python/ops/resource_variable_ops.py:1630: calling BaseResourceVariable.__init__ (from tensorflow.python.ops.resource_variable_ops) with constraint is deprecated and will be removed in a future version.\n",
      "Instructions for updating:\n",
      "If using Keras pass *_constraint arguments to layers.\n",
      "Model: \"vae_mlp\"\n",
      "__________________________________________________________________________________________________\n",
      "Layer (type)                    Output Shape         Param #     Connected to                     \n",
      "==================================================================================================\n",
      "encoder_input (InputLayer)      (None, 2000)         0                                            \n",
      "__________________________________________________________________________________________________\n",
      "batch_input1 (InputLayer)       (None, 64)           0                                            \n",
      "__________________________________________________________________________________________________\n",
      "encoder_mlp (Model)             [(None, 16), (None,  285088      encoder_input[0][0]              \n",
      "                                                                 batch_input1[0][0]               \n",
      "__________________________________________________________________________________________________\n",
      "batch_input2 (InputLayer)       (None, 14)           0                                            \n",
      "__________________________________________________________________________________________________\n",
      "decoder_mlp (Model)             (None, 2000)         542748      encoder_mlp[1][2]                \n",
      "                                                                 batch_input2[0][0]               \n",
      "==================================================================================================\n",
      "Total params: 827,836\n",
      "Trainable params: 826,080\n",
      "Non-trainable params: 1,756\n",
      "__________________________________________________________________________________________________\n",
      "WARNING:tensorflow:From /Users/zhongyuanke/anaconda3/envs/test-vipcca/lib/python3.7/site-packages/tensorflow_core/python/ops/math_grad.py:1424: where (from tensorflow.python.ops.array_ops) is deprecated and will be removed in a future version.\n",
      "Instructions for updating:\n",
      "Use tf.where in 2.0, which has the same broadcast rule as np.where\n",
      "WARNING:tensorflow:From /Users/zhongyuanke/anaconda3/envs/test-vipcca/lib/python3.7/site-packages/keras/backend/tensorflow_backend.py:422: The name tf.global_variables is deprecated. Please use tf.compat.v1.global_variables instead.\n",
      "\n",
      "WARNING:tensorflow:From /Users/zhongyuanke/anaconda3/envs/test-vipcca/lib/python3.7/site-packages/keras/callbacks/tensorboard_v1.py:200: The name tf.summary.merge_all is deprecated. Please use tf.compat.v1.summary.merge_all instead.\n",
      "\n",
      "WARNING:tensorflow:From /Users/zhongyuanke/anaconda3/envs/test-vipcca/lib/python3.7/site-packages/keras/callbacks/tensorboard_v1.py:203: The name tf.summary.FileWriter is deprecated. Please use tf.compat.v1.summary.FileWriter instead.\n",
      "\n",
      "Epoch 1/20\n",
      "17298/17298 [==============================] - 4s 237us/step - loss: 5514.6927\n",
      "WARNING:tensorflow:From /Users/zhongyuanke/anaconda3/envs/test-vipcca/lib/python3.7/site-packages/keras/callbacks/tensorboard_v1.py:343: The name tf.Summary is deprecated. Please use tf.compat.v1.Summary instead.\n",
      "\n",
      "Epoch 2/20\n",
      "17298/17298 [==============================] - 2s 116us/step - loss: 5371.0854\n",
      "Epoch 3/20\n",
      "17298/17298 [==============================] - 2s 115us/step - loss: 5339.5891\n",
      "Epoch 4/20\n",
      "17298/17298 [==============================] - 2s 111us/step - loss: 5323.4128\n",
      "Epoch 5/20\n",
      "17298/17298 [==============================] - 2s 116us/step - loss: 5315.5013\n",
      "Epoch 6/20\n",
      "17298/17298 [==============================] - 2s 119us/step - loss: 5308.0851\n",
      "Epoch 7/20\n",
      "17298/17298 [==============================] - 2s 109us/step - loss: 5301.5966\n",
      "Epoch 8/20\n",
      "17298/17298 [==============================] - 2s 110us/step - loss: 5298.1990\n",
      "Epoch 9/20\n",
      "17298/17298 [==============================] - 2s 111us/step - loss: 5295.3549\n",
      "Epoch 10/20\n",
      "17298/17298 [==============================] - 2s 109us/step - loss: 5291.1157\n",
      "Epoch 11/20\n",
      "17298/17298 [==============================] - 2s 109us/step - loss: 5289.0177\n",
      "Epoch 12/20\n",
      "17298/17298 [==============================] - 2s 117us/step - loss: 5285.8883\n",
      "Epoch 13/20\n",
      "17298/17298 [==============================] - 2s 140us/step - loss: 5283.0450\n",
      "Epoch 14/20\n",
      "17298/17298 [==============================] - 2s 106us/step - loss: 5281.0453\n",
      "Epoch 15/20\n",
      "17298/17298 [==============================] - 2s 106us/step - loss: 5280.1739\n",
      "Epoch 16/20\n",
      "17298/17298 [==============================] - 2s 99us/step - loss: 5280.1680\n",
      "Epoch 17/20\n",
      "17298/17298 [==============================] - 2s 100us/step - loss: 5277.5668\n",
      "Epoch 18/20\n",
      "17298/17298 [==============================] - 2s 100us/step - loss: 5275.0524\n",
      "Epoch 19/20\n",
      "17298/17298 [==============================] - 2s 97us/step - loss: 5274.4980\n",
      "Epoch 20/20\n",
      "17298/17298 [==============================] - 2s 97us/step - loss: 5274.5832\n"
     ]
    },
    {
     "name": "stderr",
     "output_type": "stream",
     "text": [
      "... storing '_batch' as categorical\n",
      "... storing 'celltype' as categorical\n",
      "... storing 'tech' as categorical\n"
     ]
    }
   ],
   "source": [
    "# Command for Jupyter notebooks only\n",
    "import os\n",
    "os.environ[\"TF_CPP_MIN_LOG_LEVEL\"] = \"2\"\n",
    "\n",
    "handle = vip.vipcca.VIPCCA(adata_all=adata_all,\n",
    "                           res_path='./results/atac/',\n",
    "                           mode='CVAE',\n",
    "                           split_by=\"_batch\",\n",
    "                           epochs=20,\n",
    "                           lambda_regulizer=2,\n",
    "                           batch_input_size=64,\n",
    "                           batch_input_size2=14,\n",
    "                           )\n",
    "adata_transform=handle.fit_transform()"
   ]
  },
  {
   "cell_type": "markdown",
   "metadata": {},
   "source": [
    "### Cell type prediction"
   ]
  },
  {
   "cell_type": "code",
   "execution_count": null,
   "metadata": {},
   "outputs": [],
   "source": [
    "ann_atac=network.findNeighbors(adata_transform)"
   ]
  },
  {
   "cell_type": "markdown",
   "metadata": {},
   "source": [
    "### UMAP Visualization\n"
   ]
  },
  {
   "cell_type": "code",
   "execution_count": null,
   "metadata": {},
   "outputs": [],
   "source": []
  }
 ],
 "metadata": {
  "kernelspec": {
   "display_name": "jupyter-vipcca",
   "language": "python",
   "name": "jupyter-vipcca"
  },
  "language_info": {
   "codemirror_mode": {
    "name": "ipython",
    "version": 3
   },
   "file_extension": ".py",
   "mimetype": "text/x-python",
   "name": "python",
   "nbconvert_exporter": "python",
   "pygments_lexer": "ipython3",
   "version": "3.7.9"
  }
 },
 "nbformat": 4,
 "nbformat_minor": 2
}
